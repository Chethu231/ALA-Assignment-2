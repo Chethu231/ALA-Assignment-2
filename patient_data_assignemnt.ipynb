{
 "cells": [
  {
   "cell_type": "code",
   "execution_count": 1,
   "metadata": {},
   "outputs": [],
   "source": [
    "import numpy as np\n",
    "import pandas as pd\n",
    "import matplotlib.pyplot as plt\n",
    "from sklearn.cluster import AgglomerativeClustering"
   ]
  },
  {
   "cell_type": "code",
   "execution_count": 2,
   "metadata": {},
   "outputs": [],
   "source": [
    "\n",
    "patient1 = [76,126,38.0]\n",
    "patient2 =[74,120,38.0]\n",
    "patient3 = [72,118,37.5]\n",
    "patient4 = [78,136,37.0]"
   ]
  },
  {
   "cell_type": "code",
   "execution_count": 4,
   "metadata": {},
   "outputs": [
    {
     "name": "stdout",
     "output_type": "stream",
     "text": [
      "[[76, 126, 38.0], [74, 120, 38.0], [72, 118, 37.5], [78, 136, 37.0]]\n"
     ]
    }
   ],
   "source": [
    "patients = [patient1, patient2, patient3, patient4]\n",
    "data = np.array(patients)\n",
    "print(patients)"
   ]
  },
  {
   "cell_type": "markdown",
   "metadata": {},
   "source": [
    "Which patient is farthest from the rest?"
   ]
  },
  {
   "cell_type": "code",
   "execution_count": 10,
   "metadata": {},
   "outputs": [
    {
     "name": "stdout",
     "output_type": "stream",
     "text": [
      "Patient 4 has the greatest distance: 18.980252896102307\n"
     ]
    }
   ],
   "source": [
    "num_points = data.shape[0]\n",
    "\n",
    "max_distance = 0\n",
    "farthest_patient_pair = None\n",
    "\n",
    "for i in range(num_points):\n",
    "    for j in range(i + 1, num_points):\n",
    "        distance = np.linalg.norm(data[i] - data[j])\n",
    "        if distance > max_distance:\n",
    "            max_distance = distance\n",
    "            farthest_patient_pair = (i, j)\n",
    "\n",
    "farthest_patient_index = farthest_patient_pair[1]\n",
    "\n",
    "print(f\"Patient {farthest_patient_index + 1} has the greatest distance: {max_distance}\")\n",
    "\n",
    "\n",
    "\n",
    "\n",
    "\n"
   ]
  },
  {
   "cell_type": "markdown",
   "metadata": {},
   "source": [
    "Which two patients are nearest?"
   ]
  },
  {
   "cell_type": "code",
   "execution_count": 11,
   "metadata": {},
   "outputs": [
    {
     "name": "stdout",
     "output_type": "stream",
     "text": [
      "Patient 2 and Patient 3 are nearest.\n",
      "Distance: 2.8722813232690143\n"
     ]
    }
   ],
   "source": [
    "num_patients = data.shape[0]\n",
    "distances = np.zeros((num_patients, num_patients))\n",
    "\n",
    "for i in range(num_patients):\n",
    "    for j in range(i + 1, num_patients):\n",
    "        distances[i, j] = np.linalg.norm(data[i] - data[j])\n",
    "        distances[j, i] = distances[i, j]\n",
    "\n",
    "min_distance = np.min(distances[distances > 0])\n",
    "patient_indices = np.argwhere(distances == min_distance)\n",
    "\n",
    "patient1_index, patient2_index = patient_indices[0][0], patient_indices[0][1]\n",
    "\n",
    "print(f\"Patient {patient1_index + 1} and Patient {patient2_index + 1} are nearest.\")\n",
    "print(\"Distance:\", min_distance)"
   ]
  },
  {
   "cell_type": "markdown",
   "metadata": {},
   "source": [
    "Create a new dummy patient, and then find which is the closest patient?\n",
    "\n"
   ]
  },
  {
   "cell_type": "code",
   "execution_count": 12,
   "metadata": {},
   "outputs": [
    {
     "name": "stdout",
     "output_type": "stream",
     "text": [
      "The closest patient to the new dummy patient is Patient 1\n",
      "Distance: 4.127953488110059\n"
     ]
    }
   ],
   "source": [
    "num_patients = data.shape[0]\n",
    "distances = np.zeros((num_patients, num_patients))\n",
    "\n",
    "for i in range(num_patients):\n",
    "    for j in range(i + 1, num_patients):\n",
    "        distances[i, j] = np.linalg.norm(data[i] - data[j])\n",
    "        distances[j, i] = distances[i, j]\n",
    "\n",
    "new_dummy_patient = np.array([75, 130, 37.8])\n",
    "\n",
    "\n",
    "new_patient_distances = np.zeros(num_patients)\n",
    "\n",
    "for i in range(num_patients):\n",
    "    new_patient_distances[i] = np.linalg.norm(data[i] - new_dummy_patient)\n",
    "\n",
    "closest_patient_index = np.argmin(new_patient_distances)\n",
    "\n",
    "print(f\"The closest patient to the new dummy patient is Patient {closest_patient_index + 1}\")\n",
    "print(\"Distance:\", new_patient_distances[closest_patient_index])"
   ]
  }
 ],
 "metadata": {
  "kernelspec": {
   "display_name": "base",
   "language": "python",
   "name": "python3"
  },
  "language_info": {
   "codemirror_mode": {
    "name": "ipython",
    "version": 3
   },
   "file_extension": ".py",
   "mimetype": "text/x-python",
   "name": "python",
   "nbconvert_exporter": "python",
   "pygments_lexer": "ipython3",
   "version": "3.11.4"
  },
  "orig_nbformat": 4
 },
 "nbformat": 4,
 "nbformat_minor": 2
}
